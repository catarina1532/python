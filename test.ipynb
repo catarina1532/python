{
  "nbformat": 4,
  "nbformat_minor": 0,
  "metadata": {
    "colab": {
      "provenance": [],
      "authorship_tag": "ABX9TyPYndnGhosivgWz8BaahAMM",
      "include_colab_link": true
    },
    "kernelspec": {
      "name": "python3",
      "display_name": "Python 3"
    },
    "language_info": {
      "name": "python"
    }
  },
  "cells": [
    {
      "cell_type": "markdown",
      "metadata": {
        "id": "view-in-github",
        "colab_type": "text"
      },
      "source": [
        "<a href=\"https://colab.research.google.com/github/catarina1532/python/blob/main/test.ipynb\" target=\"_parent\"><img src=\"https://colab.research.google.com/assets/colab-badge.svg\" alt=\"Open In Colab\"/></a>"
      ]
    },
    {
      "cell_type": "markdown",
      "source": [
        "# My first notebook"
      ],
      "metadata": {
        "id": "-Jcms6ee-k3j"
      }
    },
    {
      "cell_type": "markdown",
      "source": [
        "Next i have a block of code:"
      ],
      "metadata": {
        "id": "cgFtlVhO-Lbk"
      }
    },
    {
      "cell_type": "code",
      "execution_count": 11,
      "metadata": {
        "colab": {
          "base_uri": "https://localhost:8080/"
        },
        "id": "asOvVSVh7yga",
        "outputId": "25369c22-2035-4c9b-c0ae-cb9a4dc352f1"
      },
      "outputs": [
        {
          "output_type": "stream",
          "name": "stdout",
          "text": [
            "hello\n"
          ]
        }
      ],
      "source": [
        "print('hello')"
      ]
    },
    {
      "cell_type": "markdown",
      "source": [
        "## let's keep programming:\n",
        "- read a file\n",
        "- count the number of lines"
      ],
      "metadata": {
        "id": "DSYLcG7I_DfC"
      }
    }
  ]
}